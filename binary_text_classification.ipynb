{
  "nbformat": 4,
  "nbformat_minor": 0,
  "metadata": {
    "colab": {
      "name": "Proyek NLP (pertama).ipynb",
      "provenance": [],
      "collapsed_sections": []
    },
    "kernelspec": {
      "name": "python3",
      "display_name": "Python 3"
    },
    "language_info": {
      "name": "python"
    }
  },
  "cells": [
    {
      "cell_type": "code",
      "metadata": {
        "id": "90I5c7osXwGH"
      },
      "source": [
        "import pandas as pd\n",
        "df = pd.read_csv('test.txt', names=['sentence', 'label'], sep='\\t')"
      ],
      "execution_count": 117,
      "outputs": []
    },
    {
      "cell_type": "code",
      "metadata": {
        "colab": {
          "base_uri": "https://localhost:8080/",
          "height": 204
        },
        "id": "O994PE2OqXUf",
        "outputId": "d3c1deee-2656-4aa9-fa6d-afad1dd67e5d"
      },
      "source": [
        "df.tail()"
      ],
      "execution_count": 118,
      "outputs": [
        {
          "output_type": "execute_result",
          "data": {
            "text/html": [
              "<div>\n",
              "<style scoped>\n",
              "    .dataframe tbody tr th:only-of-type {\n",
              "        vertical-align: middle;\n",
              "    }\n",
              "\n",
              "    .dataframe tbody tr th {\n",
              "        vertical-align: top;\n",
              "    }\n",
              "\n",
              "    .dataframe thead th {\n",
              "        text-align: right;\n",
              "    }\n",
              "</style>\n",
              "<table border=\"1\" class=\"dataframe\">\n",
              "  <thead>\n",
              "    <tr style=\"text-align: right;\">\n",
              "      <th></th>\n",
              "      <th>sentence</th>\n",
              "      <th>label</th>\n",
              "    </tr>\n",
              "  </thead>\n",
              "  <tbody>\n",
              "    <tr>\n",
              "      <th>1995</th>\n",
              "      <td>i just keep feeling like someone is being unki...</td>\n",
              "      <td>NaN</td>\n",
              "    </tr>\n",
              "    <tr>\n",
              "      <th>1996</th>\n",
              "      <td>im feeling a little cranky negative after this...</td>\n",
              "      <td>NaN</td>\n",
              "    </tr>\n",
              "    <tr>\n",
              "      <th>1997</th>\n",
              "      <td>i feel that i am useful to my people and that ...</td>\n",
              "      <td>NaN</td>\n",
              "    </tr>\n",
              "    <tr>\n",
              "      <th>1998</th>\n",
              "      <td>im feeling more comfortable with derby i feel ...</td>\n",
              "      <td>NaN</td>\n",
              "    </tr>\n",
              "    <tr>\n",
              "      <th>1999</th>\n",
              "      <td>i feel all weird when i have to meet w people ...</td>\n",
              "      <td>NaN</td>\n",
              "    </tr>\n",
              "  </tbody>\n",
              "</table>\n",
              "</div>"
            ],
            "text/plain": [
              "                                               sentence  label\n",
              "1995  i just keep feeling like someone is being unki...    NaN\n",
              "1996  im feeling a little cranky negative after this...    NaN\n",
              "1997  i feel that i am useful to my people and that ...    NaN\n",
              "1998  im feeling more comfortable with derby i feel ...    NaN\n",
              "1999  i feel all weird when i have to meet w people ...    NaN"
            ]
          },
          "metadata": {
            "tags": []
          },
          "execution_count": 118
        }
      ]
    },
    {
      "cell_type": "code",
      "metadata": {
        "id": "VDXHrcCnqXYK"
      },
      "source": [
        "from sklearn.model_selection import train_test_split\n",
        "df['label'] = df['label'].fillna(0)\n",
        "kalimat = df['sentence'].values\n",
        "y = df['label'].values\n",
        "kalimat_latih, kalimat_test, y_latih, y_test = train_test_split(kalimat, y, test_size=0.2)"
      ],
      "execution_count": 119,
      "outputs": []
    },
    {
      "cell_type": "code",
      "metadata": {
        "id": "FJ0G6fbcqXcp"
      },
      "source": [
        "from tensorflow.keras.preprocessing.text import Tokenizer\n",
        "from tensorflow.keras.preprocessing.sequence import pad_sequences\n",
        " \n",
        "tokenizer = Tokenizer(num_words=5000, oov_token='x')\n",
        "tokenizer.fit_on_texts(kalimat_latih) \n",
        "tokenizer.fit_on_texts(kalimat_test)\n",
        " \n",
        "sekuens_latih = tokenizer.texts_to_sequences(kalimat_latih)\n",
        "sekuens_test = tokenizer.texts_to_sequences(kalimat_test)\n",
        " \n",
        "padded_latih = pad_sequences(sekuens_latih) \n",
        "padded_test = pad_sequences(sekuens_test)"
      ],
      "execution_count": 120,
      "outputs": []
    },
    {
      "cell_type": "code",
      "metadata": {
        "id": "voj4syNEqXfv"
      },
      "source": [
        "import tensorflow as tf\n",
        "model = tf.keras.Sequential([\n",
        "    tf.keras.layers.Embedding(input_dim=5000, output_dim=16),\n",
        "    tf.keras.layers.LSTM(64),\n",
        "    tf.keras.layers.Dense(128, activation='relu'),\n",
        "    tf.keras.layers.Dense(64, activation='relu'),\n",
        "    tf.keras.layers.Dense(1, activation='sigmoid')\n",
        "])\n",
        "model.compile(loss='binary_crossentropy',optimizer='adam',metrics=['accuracy'])"
      ],
      "execution_count": 121,
      "outputs": []
    },
    {
      "cell_type": "code",
      "metadata": {
        "colab": {
          "base_uri": "https://localhost:8080/"
        },
        "id": "Fk_0aZRXqXnn",
        "outputId": "3dac30b7-f8f5-4f67-8e4e-652943f6389b"
      },
      "source": [
        "num_epochs = 30\n",
        "history = model.fit(padded_latih, y_latih, epochs=num_epochs, \n",
        "                    validation_data=(padded_test, y_test), verbose=2)"
      ],
      "execution_count": 122,
      "outputs": [
        {
          "output_type": "stream",
          "text": [
            "Epoch 1/30\n",
            "50/50 - 4s - loss: 0.1845 - accuracy: 0.9800 - val_loss: 9.6528e-07 - val_accuracy: 1.0000\n",
            "Epoch 2/30\n",
            "50/50 - 2s - loss: 5.8425e-07 - accuracy: 1.0000 - val_loss: 4.9792e-07 - val_accuracy: 1.0000\n",
            "Epoch 3/30\n",
            "50/50 - 1s - loss: 4.9156e-07 - accuracy: 1.0000 - val_loss: 4.8599e-07 - val_accuracy: 1.0000\n",
            "Epoch 4/30\n",
            "50/50 - 1s - loss: 4.8069e-07 - accuracy: 1.0000 - val_loss: 4.7484e-07 - val_accuracy: 1.0000\n",
            "Epoch 5/30\n",
            "50/50 - 2s - loss: 4.6895e-07 - accuracy: 1.0000 - val_loss: 4.6250e-07 - val_accuracy: 1.0000\n",
            "Epoch 6/30\n",
            "50/50 - 2s - loss: 4.5612e-07 - accuracy: 1.0000 - val_loss: 4.4919e-07 - val_accuracy: 1.0000\n",
            "Epoch 7/30\n",
            "50/50 - 2s - loss: 4.4242e-07 - accuracy: 1.0000 - val_loss: 4.3511e-07 - val_accuracy: 1.0000\n",
            "Epoch 8/30\n",
            "50/50 - 2s - loss: 4.2803e-07 - accuracy: 1.0000 - val_loss: 4.2039e-07 - val_accuracy: 1.0000\n",
            "Epoch 9/30\n",
            "50/50 - 2s - loss: 4.1305e-07 - accuracy: 1.0000 - val_loss: 4.0516e-07 - val_accuracy: 1.0000\n",
            "Epoch 10/30\n",
            "50/50 - 1s - loss: 3.9761e-07 - accuracy: 1.0000 - val_loss: 3.8950e-07 - val_accuracy: 1.0000\n",
            "Epoch 11/30\n",
            "50/50 - 1s - loss: 3.8178e-07 - accuracy: 1.0000 - val_loss: 3.7350e-07 - val_accuracy: 1.0000\n",
            "Epoch 12/30\n",
            "50/50 - 2s - loss: 3.6565e-07 - accuracy: 1.0000 - val_loss: 3.5722e-07 - val_accuracy: 1.0000\n",
            "Epoch 13/30\n",
            "50/50 - 1s - loss: 3.4928e-07 - accuracy: 1.0000 - val_loss: 3.4074e-07 - val_accuracy: 1.0000\n",
            "Epoch 14/30\n",
            "50/50 - 1s - loss: 3.3276e-07 - accuracy: 1.0000 - val_loss: 3.2416e-07 - val_accuracy: 1.0000\n",
            "Epoch 15/30\n",
            "50/50 - 1s - loss: 3.1619e-07 - accuracy: 1.0000 - val_loss: 3.0758e-07 - val_accuracy: 1.0000\n",
            "Epoch 16/30\n",
            "50/50 - 1s - loss: 2.9970e-07 - accuracy: 1.0000 - val_loss: 2.9117e-07 - val_accuracy: 1.0000\n",
            "Epoch 17/30\n",
            "50/50 - 2s - loss: 2.8346e-07 - accuracy: 1.0000 - val_loss: 2.7509e-07 - val_accuracy: 1.0000\n",
            "Epoch 18/30\n",
            "50/50 - 1s - loss: 2.6766e-07 - accuracy: 1.0000 - val_loss: 2.5955e-07 - val_accuracy: 1.0000\n",
            "Epoch 19/30\n",
            "50/50 - 1s - loss: 2.5248e-07 - accuracy: 1.0000 - val_loss: 2.4473e-07 - val_accuracy: 1.0000\n",
            "Epoch 20/30\n",
            "50/50 - 1s - loss: 2.3808e-07 - accuracy: 1.0000 - val_loss: 2.3075e-07 - val_accuracy: 1.0000\n",
            "Epoch 21/30\n",
            "50/50 - 2s - loss: 2.2454e-07 - accuracy: 1.0000 - val_loss: 2.1765e-07 - val_accuracy: 1.0000\n",
            "Epoch 22/30\n",
            "50/50 - 2s - loss: 2.1186e-07 - accuracy: 1.0000 - val_loss: 2.0541e-07 - val_accuracy: 1.0000\n",
            "Epoch 23/30\n",
            "50/50 - 2s - loss: 2.0003e-07 - accuracy: 1.0000 - val_loss: 1.9399e-07 - val_accuracy: 1.0000\n",
            "Epoch 24/30\n",
            "50/50 - 2s - loss: 1.8896e-07 - accuracy: 1.0000 - val_loss: 1.8330e-07 - val_accuracy: 1.0000\n",
            "Epoch 25/30\n",
            "50/50 - 1s - loss: 1.7859e-07 - accuracy: 1.0000 - val_loss: 1.7327e-07 - val_accuracy: 1.0000\n",
            "Epoch 26/30\n",
            "50/50 - 1s - loss: 1.6884e-07 - accuracy: 1.0000 - val_loss: 1.6383e-07 - val_accuracy: 1.0000\n",
            "Epoch 27/30\n",
            "50/50 - 2s - loss: 1.5965e-07 - accuracy: 1.0000 - val_loss: 1.5495e-07 - val_accuracy: 1.0000\n",
            "Epoch 28/30\n",
            "50/50 - 1s - loss: 1.5100e-07 - accuracy: 1.0000 - val_loss: 1.4655e-07 - val_accuracy: 1.0000\n",
            "Epoch 29/30\n",
            "50/50 - 1s - loss: 1.4281e-07 - accuracy: 1.0000 - val_loss: 1.3861e-07 - val_accuracy: 1.0000\n",
            "Epoch 30/30\n",
            "50/50 - 1s - loss: 1.3506e-07 - accuracy: 1.0000 - val_loss: 1.3107e-07 - val_accuracy: 1.0000\n"
          ],
          "name": "stdout"
        }
      ]
    },
    {
      "cell_type": "code",
      "metadata": {
        "id": "j1O3F8adqXrV"
      },
      "source": [
        ""
      ],
      "execution_count": 122,
      "outputs": []
    },
    {
      "cell_type": "code",
      "metadata": {
        "id": "OijG9AmwqXum"
      },
      "source": [
        ""
      ],
      "execution_count": 122,
      "outputs": []
    },
    {
      "cell_type": "code",
      "metadata": {
        "id": "JZZx2CKKqXxY"
      },
      "source": [
        ""
      ],
      "execution_count": 122,
      "outputs": []
    },
    {
      "cell_type": "code",
      "metadata": {
        "id": "cZ4nxRhKqX0b"
      },
      "source": [
        ""
      ],
      "execution_count": 122,
      "outputs": []
    },
    {
      "cell_type": "code",
      "metadata": {
        "id": "8tY4ekSuqX3G"
      },
      "source": [
        ""
      ],
      "execution_count": 122,
      "outputs": []
    }
  ]
}